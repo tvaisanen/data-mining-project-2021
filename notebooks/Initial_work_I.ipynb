{
 "cells": [
  {
   "cell_type": "code",
   "execution_count": 1,
   "metadata": {},
   "outputs": [],
   "source": [
    "import glob\n",
    "import pandas as pd\n",
    "import xarray as xr\n",
    "import matplotlib.pyplot as plt\n",
    "files=glob.glob('./demo/*.nc')\n",
    "\n",
    "turbine_data = pd.read_csv(\"windturbines.csv\")\n",
    "wind_power_data = pd.read_csv('windpower_task0_updated.csv')"
   ]
  },
  {
   "cell_type": "code",
   "execution_count": 2,
   "metadata": {},
   "outputs": [],
   "source": [
    "def agg_func_SE_regions(lat_max, lat_min, lon_max, lon_min, csv_filename):\n",
    "    \n",
    "    #aggregating all lat and lons of SE3 \n",
    "    df_en1_SE3=[]\n",
    "    for file in files: \n",
    "        ds = xr.open_dataset(file)\n",
    "        df = ds.to_dataframe()\n",
    "        #taking first ensemble\n",
    "        df_en1 = df.loc[0]\n",
    "\n",
    "        #extracting SE3 region locations from first ensemble for each hour index\n",
    "        df_en1_SE_per_hour = df_en1[(df_en1['latitude'].between(lat_min, lat_max)) & (df_en1['longitude'].between(lon_min, lon_max)) ]\n",
    "\n",
    "        #aggregating each hour data for all columns except lat and lon\n",
    "        temp = df_en1_SE_per_hour.reset_index()\n",
    "        temp_ref= temp.drop(labels=['latitude', 'longitude','x', 'y'], axis=1)\n",
    "        temp_ref_se = temp_ref.pivot_table(index='time', aggfunc='mean')\n",
    "\n",
    "        #append data into list\n",
    "        df_en1_SE.append(temp_ref_se)\n",
    "    #now concat append_data\n",
    "    df_en1_SE = pd.concat(df_en1_SE)\n",
    "    df_en1_SE = df_en1_SE3.reset_index()\n",
    "    df_en1_SE.to_csv('./'+csv_filename)"
   ]
  },
  {
   "cell_type": "code",
   "execution_count": 3,
   "metadata": {},
   "outputs": [],
   "source": [
    "lat_min_1 = min(turbine_data[turbine_data['Price region']=='SE1']['Latitude'])\n",
    "lat_max_1 = max(turbine_data[turbine_data['Price region']=='SE1']['Latitude'])\n",
    "lon_min_1 = min(turbine_data[turbine_data['Price region']=='SE1']['Longitude'])\n",
    "lon_max_1 = max(turbine_data[turbine_data['Price region']=='SE1']['Longitude'])\n",
    "csv_filename_1 = './2000 first quarter SE1.csv'"
   ]
  },
  {
   "cell_type": "code",
   "execution_count": 4,
   "metadata": {},
   "outputs": [],
   "source": [
    "lat_min_2 = min(turbine_data[turbine_data['Price region']=='SE2']['Latitude'])\n",
    "lat_max_2 = max(turbine_data[turbine_data['Price region']=='SE2']['Latitude'])\n",
    "lon_min_2 = min(turbine_data[turbine_data['Price region']=='SE2']['Longitude'])\n",
    "lon_max_2 = max(turbine_data[turbine_data['Price region']=='SE2']['Longitude'])\n",
    "csv_filename_2 = './2000 first quarter SE2.csv'"
   ]
  },
  {
   "cell_type": "code",
   "execution_count": 5,
   "metadata": {},
   "outputs": [],
   "source": [
    "lat_min_3 = min(turbine_data[turbine_data['Price region']=='SE3']['Latitude'])\n",
    "lat_max_3 = max(turbine_data[turbine_data['Price region']=='SE3']['Latitude'])\n",
    "lon_min_3 = min(turbine_data[turbine_data['Price region']=='SE3']['Longitude'])\n",
    "lon_max_3 = max(turbine_data[turbine_data['Price region']=='SE3']['Longitude'])\n",
    "csv_filename_3 = './2000 first quarter SE3.csv'"
   ]
  },
  {
   "cell_type": "code",
   "execution_count": 6,
   "metadata": {},
   "outputs": [],
   "source": [
    "lat_min_4 = min(turbine_data[turbine_data['Price region']=='SE4']['Latitude'])\n",
    "lat_max_4 = max(turbine_data[turbine_data['Price region']=='SE4']['Latitude'])\n",
    "lon_min_4 = min(turbine_data[turbine_data['Price region']=='SE4']['Longitude'])\n",
    "lon_max_4 = max(turbine_data[turbine_data['Price region']=='SE4']['Longitude'])\n",
    "csv_filename_4 = './2000 first quarter SE4.csv'"
   ]
  },
  {
   "cell_type": "code",
   "execution_count": 7,
   "metadata": {},
   "outputs": [],
   "source": [
    "agg_func_SE_regions(lat_max_3, lat_min_3, lon_max_3, lon_min_3, csv_filename_3)"
   ]
  },
  {
   "cell_type": "markdown",
   "metadata": {},
   "source": [
    "###### First quarter of 2000 year for SE3 location saved in '2000 first quarter SE3.csv'\n",
    "###### can access by following\n",
    "df1 = pd.read_csv('./2000 first quarter SE3.csv')\n",
    "df1.info()"
   ]
  },
  {
   "cell_type": "code",
   "execution_count": 11,
   "metadata": {},
   "outputs": [],
   "source": [
    "agg_func_SE_regions(lat_max_1, lat_min_1, lon_max_1, lon_min_1, csv_filename_1)\n",
    "agg_func_SE_regions(lat_max_2, lat_min_2, lon_max_2, lon_min_2, csv_filename_2)\n",
    "agg_func_SE_regions(lat_max_4, lat_min_4, lon_max_4, lon_min_4, csv_filename_4)"
   ]
  },
  {
   "cell_type": "code",
   "execution_count": 8,
   "metadata": {},
   "outputs": [],
   "source": [
    "# #plot of single day speed vs power for SE3 region\n",
    "# df_en1 = df.loc[0]\n",
    "# speed_en1_SE3=[]\n",
    "# power_SE3=[]\n",
    "# for i in range(24):\n",
    "#     if i<=9:\n",
    "#         df_en1_i = df_en1.loc['2000-01-01 0'+str(i)+':00:00']\n",
    "#         d = wind_power_data.loc[wind_power_data['Unnamed: 0']=='2000-01-01 0'+str(i)+':00:00+00:00']\n",
    "#     elif i>9:\n",
    "#         df_en1_i = df_en1.loc['2000-01-01 '+str(i)+':00:00']\n",
    "#         d = wind_power_data.loc[wind_power_data['Unnamed: 0']=='2000-01-01 '+str(i)+':00:00+00:00']\n",
    "    \n",
    "#     df_en1_SE3 = df_en1_i[(df_en1_i['latitude'].between(57.020824378552724, 61.32639200352054)) & (df_en1_i['longitude'].between(11.25685546402957, 19.013614294967123)) ]\n",
    "#     #append all averaged speed and power in a list\n",
    "#     speed_en1_SE3.append(df_en1_SE3.WindGustSpeed.mean())\n",
    "#     power_SE3.append(d['SE3'])\n",
    "# plt.plot(speed_en1_SE3, power_SE3)\n",
    "# plt.xlabel('wind gust speed')\n",
    "# plt.ylabel('wind power')"
   ]
  },
  {
   "cell_type": "code",
   "execution_count": 9,
   "metadata": {},
   "outputs": [],
   "source": [
    "# import pandas as pd\n",
    "# import xarray as xr\n",
    "# turbine_data = pd.read_csv(\"windturbines.csv\")\n",
    "# wind_power_data = pd.read_csv('windpower_task0_updated.csv')\n",
    "\n",
    "# ds = xr.open_dataset('./demo/task0_0101.nc')\n",
    "# df = ds.to_dataframe()\n",
    "\n",
    "# #taking first ensemble\n",
    "# df_en1=df.loc[0]\n",
    "\n",
    "# # #dividing the price regions by taking min-max of longitude and latitude from turbines csv file for all regions,\n",
    "# # #and then seperating out the regions fromweather data.\n",
    "# # df_en1_SE1 = df_en1[(df_en1['latitude'].between(64.17491385637783, 67.87419277033226)) & (df_en1['longitude']. between(17.60679588660975, 23.729241327631613)) ]\n",
    "\n",
    "# # df_en1_SE2 = df_en1[(df_en1['latitude'].between(60.78908014783811, 65.31604485511886)) & (df_en1['longitude'].between(12.750307373336465, 20.99599190074916)) ]\n",
    "\n",
    "# # df_en1_SE3 = df_en1[(df_en1['latitude'].between(57.020824378552724, 61.32639200352054)) & (df_en1['longitude'].between(11.25685546402957, 19.013614294967123)) ]\n",
    "\n",
    "\n",
    "\n",
    "# # df_en1_SE4 = df_en1[(df_en1['latitude'].between(55.359889346506726, 57.4026484784359)) & (df_en1['longitude'].between(12.37701872925914, 17.080265913076975))]"
   ]
  }
 ],
 "metadata": {
  "kernelspec": {
   "display_name": "Python 3",
   "language": "python",
   "name": "python3"
  },
  "language_info": {
   "codemirror_mode": {
    "name": "ipython",
    "version": 3
   },
   "file_extension": ".py",
   "mimetype": "text/x-python",
   "name": "python",
   "nbconvert_exporter": "python",
   "pygments_lexer": "ipython3",
   "version": "3.8.3"
  }
 },
 "nbformat": 4,
 "nbformat_minor": 4
}
